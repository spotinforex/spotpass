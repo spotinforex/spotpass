{
 "cells": [
  {
   "cell_type": "code",
   "execution_count": 2,
   "id": "13a0ae71-d525-44b0-8d85-6cd2083f6205",
   "metadata": {},
   "outputs": [
    {
     "name": "stdout",
     "output_type": "stream",
     "text": [
      "successfully installed\n"
     ]
    }
   ],
   "source": [
    "# import sqlite3 after installation \n",
    "import sqlite3 as sq\n",
    "print ('successfully installed')"
   ]
  },
  {
   "cell_type": "code",
   "execution_count": 3,
   "id": "6ad231ec-6f04-4439-94e0-44bf5df55ff5",
   "metadata": {},
   "outputs": [
    {
     "name": "stdout",
     "output_type": "stream",
     "text": [
      " succesfully connected\n"
     ]
    }
   ],
   "source": [
    "# connect to the database \n",
    "connect = sq.connect('password_manager.db',timeout = 20)\n",
    "cursor = connect.cursor()\n",
    "print(' succesfully connected') "
   ]
  },
  {
   "cell_type": "code",
   "execution_count": 4,
   "id": "7082a1d4-2306-46d6-8c71-fb01e4412fcf",
   "metadata": {},
   "outputs": [
    {
     "name": "stdout",
     "output_type": "stream",
     "text": [
      "table successfully created \n"
     ]
    }
   ],
   "source": [
    "# create a table \n",
    "table = \" create table if not exists password_manager ( id integer, \\\n",
    "                                                       website TEXT not null,\\\n",
    "                                                       password varchar(200),\\\n",
    "                                                       primary key (id)) \"\n",
    "cursor.execute(table) \n",
    "print ( 'table successfully created ') "
   ]
  },
  {
   "cell_type": "code",
   "execution_count": 5,
   "id": "f61e8acc-0617-48aa-9315-83a050a13ce4",
   "metadata": {},
   "outputs": [
    {
     "name": "stdout",
     "output_type": "stream",
     "text": [
      "inserted succesfully\n"
     ]
    }
   ],
   "source": [
    "# example of inserting password directly to the database \n",
    "add_password =\" insert into password_manager values ( 2001, 'google.com', 'PRAISEGOD@123'), (2005, 'amazon.com', 'happyday@1*343')\"; \n",
    "cursor.execute(add_password)\n",
    "connect.commit()\n",
    "print ( 'inserted succesfully')"
   ]
  },
  {
   "cell_type": "code",
   "execution_count": 21,
   "id": "f6fdb579-24e3-4584-8755-c5f5af1029b0",
   "metadata": {},
   "outputs": [
    {
     "name": "stdout",
     "output_type": "stream",
     "text": [
      "(30, 'temu.com', 'happyandalone')\n",
      "(98, 'paypal.com', 'happy@alone ')\n",
      "(567, 'chatgpt.com', 'happyforeveryday')\n",
      "(5678, 'youtube.com', 'prayfortommorrow')\n",
      "(47548, 'lenovo.com', 'happythanever')\n"
     ]
    }
   ],
   "source": [
    "# example of displaying password added \n",
    "display = \" select * from password_manager \"\n",
    "cursor.execute(display) \n",
    "for x in cursor.fetchall():\n",
    "    print(x)"
   ]
  },
  {
   "cell_type": "code",
   "execution_count": 30,
   "id": "de560643-1164-4374-8766-90084421aeea",
   "metadata": {},
   "outputs": [],
   "source": [
    "def add_password():\n",
    "    try:\n",
    "        # Gather inputs\n",
    "        add_id = int(input('Please input password ID: '))\n",
    "        add_website = input('Please input website: ').strip()\n",
    "        add_password = input('Please input password: ').strip()\n",
    "        \n",
    "        # Validate inputs\n",
    "        if not add_website or not add_password:\n",
    "            print(\"Website and password cannot be empty. Please try again.\")\n",
    "            return\n",
    "        \n",
    "        # Insert into database\n",
    "        insert_query = \"INSERT INTO password_manager (id, website, password) VALUES (?, ?, ?)\"\n",
    "        cursor.execute(insert_query, (add_id, add_website, add_password))\n",
    "        connect.commit()\n",
    "        print('Password added successfully.')\n",
    "    except ValueError:\n",
    "        print(\"Please enter a valid numeric ID.\")\n",
    "    except Exception as e:\n",
    "        print(f\"Password not added successfully. Error: {e}\")\n"
   ]
  },
  {
   "cell_type": "code",
   "execution_count": 14,
   "id": "ec313f4c-e345-4f43-acd0-92e612764e6a",
   "metadata": {},
   "outputs": [],
   "source": [
    "# updating function \n",
    "def update_password():\n",
    "    # Gather inputs\n",
    "    old_id = input('Please input old ID (leave blank if not available): ')\n",
    "    old_website = input('Please input old website (leave blank if not available): ')\n",
    "    \n",
    "    # Check if at least one condition is provided\n",
    "    if not old_id and not old_website:\n",
    "        print(\"Please input at least an ID or a Website to update.\")\n",
    "        return\n",
    "    \n",
    "    # Gather new details for the update\n",
    "    try:\n",
    "        update_id = int(input('Please input new ID: '))\n",
    "    except ValueError:\n",
    "        print(\"Invalid ID. Please provide a numeric value.\")\n",
    "        return\n",
    "    \n",
    "    update_website = input('Please input new website: ')\n",
    "    update_password = input('Please input new password: ')\n",
    "\n",
    "    # Construct query and parameters based on user input\n",
    "    if old_id and old_website:\n",
    "        query = \"UPDATE password_manager SET id = ?, website = ?, password = ? WHERE id = ? AND website = ?\"\n",
    "        parameters = (update_id, update_website, update_password, old_id, old_website)\n",
    "    elif old_id:\n",
    "        query = \"UPDATE password_manager SET id = ?, website = ?, password = ? WHERE id = ?\"\n",
    "        parameters = (update_id, update_website, update_password, old_id)\n",
    "    elif old_website:\n",
    "        query = \"UPDATE password_manager SET id = ?, website = ?, password = ? WHERE website = ?\"\n",
    "        parameters = (update_id, update_website, update_password, old_website)\n",
    "\n",
    "    # Execute query and provide feedback\n",
    "    try:\n",
    "        cursor.execute(query, parameters)\n",
    "        if cursor.rowcount > 0:  # Check if any rows were updated\n",
    "            connect.commit()\n",
    "            print(\"Password updated successfully.\")\n",
    "        else:\n",
    "            print(\"No matching record found. Update failed.\")\n",
    "    except Exception as e:\n",
    "        print(f\"An error occurred: {e}\")\n",
    "\n",
    "    "
   ]
  },
  {
   "cell_type": "code",
   "execution_count": 9,
   "id": "6bb5f03f-9195-4b13-b4a5-8a4b3c7010da",
   "metadata": {},
   "outputs": [],
   "source": [
    "# veiw password function \n",
    "def veiw_password():\n",
    "    veiw = 'select * from password_manager'\n",
    "    cursor.execute( veiw )\n",
    "    for rows in cursor.fetchall():\n",
    "        print (rows)\n",
    "    print ('All passwords in the manager')\n",
    "# veiw certain numbers of passwords\n",
    "def veiw_number_of_password():\n",
    "    number_of_password = input('pls input numbers of passwords to view')\n",
    "    veiw_many = ' select * from password_manager limit ?'\n",
    "    cursor.execute(veiw_many,(number_of_password))\n",
    "    for rows in cursor.fetchall():\n",
    "        print (rows)\n",
    "    print (f\" {number_of_password} passwords in the manager\") \n"
   ]
  },
  {
   "cell_type": "code",
   "execution_count": 10,
   "id": "2649cb69-9440-4c07-b6ed-a181cf316b06",
   "metadata": {},
   "outputs": [],
   "source": [
    "# find password function \n",
    "def find_password():\n",
    "    find_password_id = input('Please input ID (leave blank if not available): ')\n",
    "    find_password_website = input('Please input Website (leave blank if not available): ')\n",
    "    \n",
    "    # Check for both ID and Website\n",
    "    if find_password_id and find_password_website:\n",
    "        find_sql = 'SELECT * FROM password_manager WHERE id = ? OR website = ?'\n",
    "        cursor.execute(find_sql, (find_password_id, find_password_website))\n",
    "        rows = cursor.fetchall()\n",
    "        if rows:\n",
    "            print(\"Record(s) found:\")\n",
    "            for row in rows:\n",
    "                print(row)\n",
    "        else:\n",
    "            print(\"No records found for the given ID and Website.\")\n",
    "    \n",
    "    # Check for ID only\n",
    "    elif find_password_id:\n",
    "        find_sql = 'SELECT * FROM password_manager WHERE id = ?'\n",
    "        cursor.execute(find_sql, (find_password_id,))\n",
    "        rows = cursor.fetchall()\n",
    "        if rows:\n",
    "            print(\"Record(s) found:\")\n",
    "            for row in rows:\n",
    "                print(row)\n",
    "        else:\n",
    "            print(\"No records found for the given ID.\")\n",
    "    \n",
    "    # Check for Website only\n",
    "    elif find_password_website:\n",
    "        find_sql = 'SELECT * FROM password_manager WHERE website = ?'\n",
    "        cursor.execute(find_sql, (find_password_website,))\n",
    "        rows = cursor.fetchall()\n",
    "        if rows:\n",
    "            print(\"Record(s) found:\")\n",
    "            for row in rows:\n",
    "                print(row)\n",
    "        else:\n",
    "            print(\"No records found for the given Website.\")\n",
    "    \n",
    "    # No input provided\n",
    "    else:\n",
    "        print(\"No input provided. Please enter either ID or Website.\")\n",
    "\n",
    "    "
   ]
  },
  {
   "cell_type": "code",
   "execution_count": 11,
   "id": "fcb0a102-99e4-4738-91bf-1fcc21ddad32",
   "metadata": {},
   "outputs": [],
   "source": [
    "# delete password function \n",
    "def delete_password():\n",
    "    while True:\n",
    "        password = input( ' input login password') \n",
    "        if password == \"praisejah\":\n",
    "            delete_password = int(input( ' pls input password id'))\n",
    "            query = 'delete from password_manager where id = ?'\n",
    "            cursor.execute(query,(delete_password,))\n",
    "            connect.commit()\n",
    "            print ( 'deleted successfully ')\n",
    "            break\n",
    "        else:\n",
    "            print ( 'incorrect password try again')"
   ]
  },
  {
   "cell_type": "code",
   "execution_count": 31,
   "id": "dd02d11d-c3b4-413a-bfb4-541f44d4b539",
   "metadata": {},
   "outputs": [
    {
     "name": "stdin",
     "output_type": "stream",
     "text": [
      "Please input password ID:  678\n",
      "Please input website:  happy.com\n",
      "Please input password:  erfgbvfd\n"
     ]
    },
    {
     "name": "stdout",
     "output_type": "stream",
     "text": [
      "Password added successfully.\n"
     ]
    }
   ],
   "source": [
    "add_password()"
   ]
  }
 ],
 "metadata": {
  "kernelspec": {
   "display_name": "Python 3 (ipykernel)",
   "language": "python",
   "name": "python3"
  },
  "language_info": {
   "codemirror_mode": {
    "name": "ipython",
    "version": 3
   },
   "file_extension": ".py",
   "mimetype": "text/x-python",
   "name": "python",
   "nbconvert_exporter": "python",
   "pygments_lexer": "ipython3",
   "version": "3.13.0"
  }
 },
 "nbformat": 4,
 "nbformat_minor": 5
}
